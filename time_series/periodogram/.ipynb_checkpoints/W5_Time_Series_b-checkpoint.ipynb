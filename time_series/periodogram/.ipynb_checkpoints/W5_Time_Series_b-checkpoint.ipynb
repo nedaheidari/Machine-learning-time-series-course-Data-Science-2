{
 "cells": [
  {
   "cell_type": "markdown",
   "id": "e9f27e63",
   "metadata": {},
   "source": [
    "# Time and Frequency Domain\n",
    "\n",
    "![SegmentLocal](Fourier_transform_time_and_frequency_domains_(small).gif \"segment\")\n",
    "\n",
    "## Time domain\n",
    "Time domain refers to the analysis of mathematical functions, physical signals or time series of economic or environmental data, with respect to time.\n",
    "\n",
    "## Frequency domain\n",
    "Frequency domain refers to the analysis of mathematical functions or signals with respect to frequency (and possibly phase), rather than time, as in time series.\n",
    "\n",
    "A time-domain graph shows how a signal changes over time, whereas a frequency-domain graph shows how the signal is distributed within different frequency bands over a range of frequencies. A complex valued frequency-domain representation consists of both the magnitude and the phase of a set of sinusoids (or other basis waveforms) at the frequency components of the signal. \n",
    "\n",
    "\n",
    "![SegmentLocal](Period-and-Frequency-Wave.gif \"segment\")\n",
    "\n",
    "\n",
    "\n",
    "## Phase\n",
    "\n",
    "Any periodically oscillating sinusoidal wave (or simple MR signal) has three fundamental properties: amplitude, frequency, and phase.  These properties are explicitly apparent in the mathematical formulation for a sine wave:\n",
    "$S(t) = A sin(ω_ot − ϕ)$\n",
    "\n",
    "where S(t) is the signal as a function of time, A is the amplitude, ω_o is the angular frequency, and ϕ is the instantaneous phase.\n",
    "By adjusting these factors, the appearance of the sine wave can be varied.  Instantaneous phase (ϕ) represents an angular shift between two sine waves and is measured in radians (or degrees).  A sine wave and a cosine wave are 90° (π/2 radians) out of phase with each other. It may be measured in any angular unit such as degrees or radians, thus increasing by $360\\degr$ or \n",
    "$2\\pi$  as the variable  $t$ completes a full period.\n",
    "\n",
    "\n",
    "![SegmentLocal](Phase.gif \"segment\")\n",
    "\n",
    "![SegmentLocal](Oscillating_sine_wave.gif \"segment\")\n",
    "\n",
    "\n",
    "## Fourier transformation from time domain to frequency domain\n",
    "The Fourier transform (FT) is an integral transform that takes a function as input and outputs another function that describes the extent to which various frequencies are present in the original function. The output of the transform is a complex-valued function of frequency. The term Fourier transform refers to both this complex-valued function and the mathematical operation. When a distinction needs to be made, the output of the operation is sometimes called the frequency domain representation of the original function. The Fourier transform is analogous to decomposing the sound of a musical chord into the intensities of its constituent pitches.\n",
    "\n",
    "\n",
    "The Fourier sine transform of $f (t)$ is:\n",
    "\n",
    "${\\hat {f}}^{s}(\\xi )=\\int _{-\\infty }^{\\infty }f(t)\\sin(2\\pi \\xi t)\\,dt.$\n",
    "\n",
    "If $t$ means time, then $\\xi$ is frequency in cycles per unit time, but in the abstract, they can be any dual pair of variables (e.g. position and spatial frequency).\n"
   ]
  },
  {
   "cell_type": "code",
   "execution_count": null,
   "id": "4daf4b87",
   "metadata": {},
   "outputs": [],
   "source": []
  }
 ],
 "metadata": {
  "kernelspec": {
   "display_name": "Python 3 (ipykernel)",
   "language": "python",
   "name": "python3"
  },
  "language_info": {
   "codemirror_mode": {
    "name": "ipython",
    "version": 3
   },
   "file_extension": ".py",
   "mimetype": "text/x-python",
   "name": "python",
   "nbconvert_exporter": "python",
   "pygments_lexer": "ipython3",
   "version": "3.11.3"
  }
 },
 "nbformat": 4,
 "nbformat_minor": 5
}
