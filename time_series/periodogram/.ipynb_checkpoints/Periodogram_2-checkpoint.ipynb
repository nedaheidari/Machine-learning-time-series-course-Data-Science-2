{
 "cells": [
  {
   "cell_type": "markdown",
   "id": "17874ab1-5d58-42c2-b340-2d060d4b250c",
   "metadata": {},
   "source": [
    "Dear students,\n",
    "\n",
    "This is a complete exercise and, in fact, a simulation of a real project involving the periodogram. In your exam, I also expect you to follow the steps outlined below."
   ]
  },
  {
   "cell_type": "markdown",
   "id": "ebd6c32e-51c8-4911-965e-b489586a8f53",
   "metadata": {},
   "source": [
    "# 🧪 Exercise: Detecting a Planet with a Periodogram\n",
    "\n",
    "💡 Objective:\n",
    "\n",
    "You are given radial velocity (RV) data from a star that may host a planet. Your mission is to analyze this dataset, remove any long-term trend, and uncover the periodic signal of the planet using a periodogram."
   ]
  },
  {
   "cell_type": "markdown",
   "id": "4417fcb1-4e81-49fe-b8a7-ce50e30fa9c4",
   "metadata": {},
   "source": [
    "# 🧮 Step 1: Read the data"
   ]
  },
  {
   "cell_type": "code",
   "execution_count": 2,
   "id": "ade13be1-74b8-4eee-8efe-a4ef4f90b1ec",
   "metadata": {},
   "outputs": [],
   "source": [
    "# answer\n",
    "\n"
   ]
  },
  {
   "cell_type": "markdown",
   "id": "8aee611c-3d0d-4383-9d33-d9d7b1ad9547",
   "metadata": {},
   "source": [
    "# 📉 Step 2: Visualize the raw data\n",
    "\n",
    "Before doing anything else, we need to look at our data. This helps us spot trends."
   ]
  },
  {
   "cell_type": "code",
   "execution_count": 3,
   "id": "2873d916-4793-4bf0-b138-8dd4ac8fc520",
   "metadata": {},
   "outputs": [],
   "source": [
    "# answer\n",
    "\n"
   ]
  },
  {
   "cell_type": "markdown",
   "id": "0ffcb82a-0468-4455-8a8d-5cbcf8c59d96",
   "metadata": {},
   "source": [
    "# 🧼 Step 3: Remove long-term trends\n",
    "\n",
    "If you have trend, before running the periodogram, you have to remove it and make your data clean. So, you should perform: \n",
    "\n",
    "1. You will find the trend from one of the methods that you have learn. You should look at the data and choose among the linear regression, ploynomial regression, or avrage rolling window. \n",
    "\n",
    "2. Using the step above, you will find the trend. Now, you should perform:\n",
    "\n",
    "detrended_data= data-trend "
   ]
  },
  {
   "cell_type": "code",
   "execution_count": 4,
   "id": "5360ea3a-836e-42c5-b242-79184146c1dc",
   "metadata": {},
   "outputs": [],
   "source": [
    "# Answer\n",
    "\n"
   ]
  },
  {
   "cell_type": "markdown",
   "id": "35943abe-b277-4de3-89bf-40f822aab246",
   "metadata": {},
   "source": [
    "# 🔍 Step 4: Compute the Lomb-Scargle periodogram\n",
    "\n",
    "Reminder: you should use here the detrended data. "
   ]
  },
  {
   "cell_type": "code",
   "execution_count": 5,
   "id": "ae588bfa-8680-426f-865e-493cd91f2a5f",
   "metadata": {},
   "outputs": [],
   "source": [
    "# Answer\n",
    "\n"
   ]
  },
  {
   "cell_type": "markdown",
   "id": "6baa18dd-d5d5-4885-aabb-b529c14745fb",
   "metadata": {},
   "source": [
    "# Step 5: Examine the model "
   ]
  },
  {
   "cell_type": "code",
   "execution_count": 6,
   "id": "224c16b2-c5d5-4233-873d-80bf9ee813c3",
   "metadata": {},
   "outputs": [],
   "source": [
    "# Answer\n",
    "\n"
   ]
  },
  {
   "cell_type": "code",
   "execution_count": null,
   "id": "ca8d77aa-a149-4faf-b2b5-db1308980a18",
   "metadata": {},
   "outputs": [],
   "source": []
  }
 ],
 "metadata": {
  "kernelspec": {
   "display_name": "Python 3 (ipykernel)",
   "language": "python",
   "name": "python3"
  },
  "language_info": {
   "codemirror_mode": {
    "name": "ipython",
    "version": 3
   },
   "file_extension": ".py",
   "mimetype": "text/x-python",
   "name": "python",
   "nbconvert_exporter": "python",
   "pygments_lexer": "ipython3",
   "version": "3.11.3"
  }
 },
 "nbformat": 4,
 "nbformat_minor": 5
}
