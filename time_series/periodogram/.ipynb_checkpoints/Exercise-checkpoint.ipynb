{
 "cells": [
  {
   "cell_type": "markdown",
   "id": "78e24ea7-a2d6-4f64-a965-cb03c4cbfe35",
   "metadata": {},
   "source": [
    "Problem: Investigating a Pulsating Star\n",
    "\n",
    "You are observing a star that pulsates, and you have collected data on its brightness over time. Your data is unevenly spaced in time, and you're tasked with finding the period of the star's pulsation.\n",
    "\n",
    "The table below shows the time (in days) and the corresponding brightness (in magnitudes) of the star:"
   ]
  },
  {
   "cell_type": "code",
   "execution_count": 3,
   "id": "003a9c6b-91ee-4338-af99-1df916405434",
   "metadata": {},
   "outputs": [],
   "source": [
    "import numpy as np\n",
    "import matplotlib.pyplot as plt\n",
    "from astropy.timeseries import LombScargle\n",
    "\n",
    "# Given data (time in days, brightness in magnitudes)\n",
    "time = np.array([2.1, 4.5, 6.8, 8.2, 10.1, 11.6, 13.0, 15.3])\n",
    "brightness = np.array([12.0, 11.8, 12.1, 12.3, 12.0, 12.2, 12.4, 12.1])"
   ]
  },
  {
   "cell_type": "markdown",
   "id": "60752bf7-6d14-4ec1-bcdb-606e89758970",
   "metadata": {},
   "source": [
    "Task:\n",
    "\n",
    "1. Plot the data to visualize the variation in brightness.\n",
    "\n",
    "2. Use the Lomb-Scargle periodogram to find the period of the pulsation.\n",
    "\n",
    "3. What is the best period"
   ]
  },
  {
   "cell_type": "code",
   "execution_count": 8,
   "id": "bb40ace0-979e-41f3-80b3-984d5d6c09a3",
   "metadata": {},
   "outputs": [],
   "source": [
    "# Answer\n"
   ]
  },
  {
   "cell_type": "markdown",
   "id": "e933ec90-ef9e-4320-a5db-f174e4605dc8",
   "metadata": {},
   "source": [
    "# Problem :detecting periodicity in temperature anomalies of a star\n",
    "\n",
    "Task:\n",
    "\n",
    "You have a dataset with time (in years) and temperature anomalies of a hypothetical star. Your task is to:\n",
    "\n",
    "1. Plot the temperature anomalies over time.\n",
    "\n",
    "2. Apply the Lomb-Scargle periodogram to detect periodicity.\n",
    "\n",
    "3. Find the dominant period.\n",
    "\n",
    "4. Plot the best-fitting model on the data to see how well it matches.\n",
    "\n"
   ]
  },
  {
   "cell_type": "markdown",
   "id": "609cd628-db64-46d8-bb72-cebd06f96e16",
   "metadata": {},
   "source": [
    "Here is the simulated data: "
   ]
  },
  {
   "cell_type": "code",
   "execution_count": 9,
   "id": "4493c0cd-5cf2-406d-b53d-61c387df81e6",
   "metadata": {},
   "outputs": [
    {
     "name": "stdout",
     "output_type": "stream",
     "text": [
      "      Year  Temperature\n",
      "0  0.00000     0.108279\n",
      "1  0.10101     0.100877\n",
      "2  0.20202     0.560560\n",
      "3  0.30303     0.556966\n",
      "4  0.40404     0.790582\n"
     ]
    }
   ],
   "source": [
    "import numpy as np\n",
    "import pandas as pd\n",
    "import matplotlib.pyplot as plt\n",
    "from astropy.timeseries import LombScargle\n",
    "\n",
    "# Create a simple synthetic dataset\n",
    "time = np.linspace(0, 10, 100)  # Time from 0 to 10 years\n",
    "true_period = 3  # The true period of the signal (3 years)\n",
    "temperature = np.sin(2 * np.pi * time / true_period) + np.random.normal(0, 0.1, len(time))  # Sinusoidal signal + noise\n",
    "\n",
    "\n",
    "# Create DataFrame\n",
    "df = pd.DataFrame({'Year': time, 'Temperature': temperature})\n",
    "print(df.head())\n"
   ]
  },
  {
   "cell_type": "code",
   "execution_count": 10,
   "id": "9122c448-e84d-4ff6-9825-25ca0405fbdc",
   "metadata": {},
   "outputs": [],
   "source": [
    "# Answer\n",
    "\n"
   ]
  },
  {
   "cell_type": "code",
   "execution_count": null,
   "id": "de01c6e3-730b-4d8f-a5fc-a4d9580c4a9d",
   "metadata": {},
   "outputs": [],
   "source": []
  }
 ],
 "metadata": {
  "kernelspec": {
   "display_name": "Python 3 (ipykernel)",
   "language": "python",
   "name": "python3"
  },
  "language_info": {
   "codemirror_mode": {
    "name": "ipython",
    "version": 3
   },
   "file_extension": ".py",
   "mimetype": "text/x-python",
   "name": "python",
   "nbconvert_exporter": "python",
   "pygments_lexer": "ipython3",
   "version": "3.11.3"
  }
 },
 "nbformat": 4,
 "nbformat_minor": 5
}
