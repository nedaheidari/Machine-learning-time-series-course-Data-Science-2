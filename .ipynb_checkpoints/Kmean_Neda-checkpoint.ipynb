{
 "cells": [
  {
   "cell_type": "markdown",
   "id": "0d9907f9-04a6-4b36-a392-fe39edfebcd7",
   "metadata": {},
   "source": [
    "## K-Means"
   ]
  },
  {
   "cell_type": "markdown",
   "id": "77a19bde-50fb-45d2-a689-780290a201e8",
   "metadata": {},
   "source": [
    "# Import library"
   ]
  },
  {
   "cell_type": "code",
   "execution_count": 6,
   "id": "5e3f4a9b-44a3-4341-afd7-962f1aa76c89",
   "metadata": {},
   "outputs": [],
   "source": [
    "import pandas as pd\n",
    "import numpy as np"
   ]
  },
  {
   "cell_type": "markdown",
   "id": "15018299-6b3f-4262-80f2-05acb9f0863c",
   "metadata": {},
   "source": [
    "# Load your data"
   ]
  },
  {
   "cell_type": "code",
   "execution_count": 10,
   "id": "ce5c2bb9-efd8-41ad-8d4b-8d60be4b0731",
   "metadata": {},
   "outputs": [
    {
     "data": {
      "text/html": [
       "<div>\n",
       "<style scoped>\n",
       "    .dataframe tbody tr th:only-of-type {\n",
       "        vertical-align: middle;\n",
       "    }\n",
       "\n",
       "    .dataframe tbody tr th {\n",
       "        vertical-align: top;\n",
       "    }\n",
       "\n",
       "    .dataframe thead th {\n",
       "        text-align: right;\n",
       "    }\n",
       "</style>\n",
       "<table border=\"1\" class=\"dataframe\">\n",
       "  <thead>\n",
       "    <tr style=\"text-align: right;\">\n",
       "      <th></th>\n",
       "      <th>Q1</th>\n",
       "      <th>Q2</th>\n",
       "      <th>Q3</th>\n",
       "      <th>Q4</th>\n",
       "      <th>Q5</th>\n",
       "      <th>Q6</th>\n",
       "      <th>Q7</th>\n",
       "      <th>Q8</th>\n",
       "      <th>Q9</th>\n",
       "      <th>Q10</th>\n",
       "      <th>...</th>\n",
       "      <th>Q26</th>\n",
       "      <th>Q27</th>\n",
       "      <th>Q28</th>\n",
       "      <th>Q29</th>\n",
       "      <th>Q30</th>\n",
       "      <th>Q31</th>\n",
       "      <th>Q32</th>\n",
       "      <th>Q33</th>\n",
       "      <th>Q34</th>\n",
       "      <th>Unnamed: 34</th>\n",
       "    </tr>\n",
       "  </thead>\n",
       "  <tbody>\n",
       "    <tr>\n",
       "      <th>0</th>\n",
       "      <td>Smith</td>\n",
       "      <td>288389</td>\n",
       "      <td>Consulting</td>\n",
       "      <td>8790</td>\n",
       "      <td>1-Mar</td>\n",
       "      <td>Contacted</td>\n",
       "      <td>25</td>\n",
       "      <td>46</td>\n",
       "      <td>0,8</td>\n",
       "      <td>35</td>\n",
       "      <td>...</td>\n",
       "      <td>Contacted</td>\n",
       "      <td>30.0</td>\n",
       "      <td>46.0</td>\n",
       "      <td>0,9</td>\n",
       "      <td>35.0</td>\n",
       "      <td>2.0</td>\n",
       "      <td>Neutral</td>\n",
       "      <td>Average</td>\n",
       "      <td>Email</td>\n",
       "      <td>NaN</td>\n",
       "    </tr>\n",
       "    <tr>\n",
       "      <th>1</th>\n",
       "      <td>Smith</td>\n",
       "      <td>287515</td>\n",
       "      <td>Consulting</td>\n",
       "      <td>9252</td>\n",
       "      <td>1-Mar</td>\n",
       "      <td>Demo</td>\n",
       "      <td>32</td>\n",
       "      <td>44</td>\n",
       "      <td>0,9</td>\n",
       "      <td>55</td>\n",
       "      <td>...</td>\n",
       "      <td>Demo</td>\n",
       "      <td>40.0</td>\n",
       "      <td>42.0</td>\n",
       "      <td>1,2</td>\n",
       "      <td>55.0</td>\n",
       "      <td>5.0</td>\n",
       "      <td>Positive</td>\n",
       "      <td>Very Good</td>\n",
       "      <td>Phone</td>\n",
       "      <td>NaN</td>\n",
       "    </tr>\n",
       "    <tr>\n",
       "      <th>2</th>\n",
       "      <td>Garcia</td>\n",
       "      <td>388664</td>\n",
       "      <td>Info and Culture</td>\n",
       "      <td>12723</td>\n",
       "      <td>2-Mar</td>\n",
       "      <td>Contacted</td>\n",
       "      <td>35</td>\n",
       "      <td>45</td>\n",
       "      <td>1,5</td>\n",
       "      <td>50</td>\n",
       "      <td>...</td>\n",
       "      <td>Contacted</td>\n",
       "      <td>50.0</td>\n",
       "      <td>46.0</td>\n",
       "      <td>1,4</td>\n",
       "      <td>69.0</td>\n",
       "      <td>7.0</td>\n",
       "      <td>Neutral</td>\n",
       "      <td>At Churn Risk</td>\n",
       "      <td>Email</td>\n",
       "      <td>NaN</td>\n",
       "    </tr>\n",
       "    <tr>\n",
       "      <th>3</th>\n",
       "      <td>Chen</td>\n",
       "      <td>281026</td>\n",
       "      <td>Consulting</td>\n",
       "      <td>9740</td>\n",
       "      <td>2-Mar</td>\n",
       "      <td>Contacted</td>\n",
       "      <td>35</td>\n",
       "      <td>30</td>\n",
       "      <td>0,5</td>\n",
       "      <td>65</td>\n",
       "      <td>...</td>\n",
       "      <td>Demo</td>\n",
       "      <td>30.0</td>\n",
       "      <td>37.0</td>\n",
       "      <td>1,5</td>\n",
       "      <td>50.0</td>\n",
       "      <td>4.0</td>\n",
       "      <td>Positive</td>\n",
       "      <td>Good</td>\n",
       "      <td>Email</td>\n",
       "      <td>NaN</td>\n",
       "    </tr>\n",
       "    <tr>\n",
       "      <th>4</th>\n",
       "      <td>Smith</td>\n",
       "      <td>354030</td>\n",
       "      <td>Ecommerce</td>\n",
       "      <td>13563</td>\n",
       "      <td>2-Mar</td>\n",
       "      <td>Proposal</td>\n",
       "      <td>47</td>\n",
       "      <td>42</td>\n",
       "      <td>1,1</td>\n",
       "      <td>60</td>\n",
       "      <td>...</td>\n",
       "      <td>Negotiations</td>\n",
       "      <td>45.0</td>\n",
       "      <td>41.0</td>\n",
       "      <td>1,3</td>\n",
       "      <td>42.0</td>\n",
       "      <td>4.0</td>\n",
       "      <td>Positive</td>\n",
       "      <td>Good</td>\n",
       "      <td>Phone</td>\n",
       "      <td>NaN</td>\n",
       "    </tr>\n",
       "    <tr>\n",
       "      <th>...</th>\n",
       "      <td>...</td>\n",
       "      <td>...</td>\n",
       "      <td>...</td>\n",
       "      <td>...</td>\n",
       "      <td>...</td>\n",
       "      <td>...</td>\n",
       "      <td>...</td>\n",
       "      <td>...</td>\n",
       "      <td>...</td>\n",
       "      <td>...</td>\n",
       "      <td>...</td>\n",
       "      <td>...</td>\n",
       "      <td>...</td>\n",
       "      <td>...</td>\n",
       "      <td>...</td>\n",
       "      <td>...</td>\n",
       "      <td>...</td>\n",
       "      <td>...</td>\n",
       "      <td>...</td>\n",
       "      <td>...</td>\n",
       "      <td>...</td>\n",
       "    </tr>\n",
       "    <tr>\n",
       "      <th>130</th>\n",
       "      <td>Zhao</td>\n",
       "      <td>393365</td>\n",
       "      <td>Info and Culture</td>\n",
       "      <td>18870</td>\n",
       "      <td>29-Mar</td>\n",
       "      <td>Contacted</td>\n",
       "      <td>38</td>\n",
       "      <td>42</td>\n",
       "      <td>1,2</td>\n",
       "      <td>45</td>\n",
       "      <td>...</td>\n",
       "      <td>Demo</td>\n",
       "      <td>42.0</td>\n",
       "      <td>38.0</td>\n",
       "      <td>1,1</td>\n",
       "      <td>53.0</td>\n",
       "      <td>5.0</td>\n",
       "      <td>Positive</td>\n",
       "      <td>Good</td>\n",
       "      <td>Phone</td>\n",
       "      <td>NaN</td>\n",
       "    </tr>\n",
       "    <tr>\n",
       "      <th>131</th>\n",
       "      <td>Garcia</td>\n",
       "      <td>388480</td>\n",
       "      <td>Info and Culture</td>\n",
       "      <td>15911</td>\n",
       "      <td>29-Mar</td>\n",
       "      <td>Contacted</td>\n",
       "      <td>41</td>\n",
       "      <td>46</td>\n",
       "      <td>1</td>\n",
       "      <td>47</td>\n",
       "      <td>...</td>\n",
       "      <td>Contacted</td>\n",
       "      <td>38.0</td>\n",
       "      <td>42.0</td>\n",
       "      <td>0,9</td>\n",
       "      <td>42.0</td>\n",
       "      <td>3.0</td>\n",
       "      <td>Neutral</td>\n",
       "      <td>Average</td>\n",
       "      <td>Phone</td>\n",
       "      <td>NaN</td>\n",
       "    </tr>\n",
       "    <tr>\n",
       "      <th>132</th>\n",
       "      <td>Devi</td>\n",
       "      <td>465745</td>\n",
       "      <td>Trades</td>\n",
       "      <td>15983</td>\n",
       "      <td>29-Mar</td>\n",
       "      <td>Contacted</td>\n",
       "      <td>45</td>\n",
       "      <td>37</td>\n",
       "      <td>0,9</td>\n",
       "      <td>60</td>\n",
       "      <td>...</td>\n",
       "      <td>Proposal</td>\n",
       "      <td>45.0</td>\n",
       "      <td>39.0</td>\n",
       "      <td>1,2</td>\n",
       "      <td>56.0</td>\n",
       "      <td>5.0</td>\n",
       "      <td>Positive</td>\n",
       "      <td>Good</td>\n",
       "      <td>Phone</td>\n",
       "      <td>NaN</td>\n",
       "    </tr>\n",
       "    <tr>\n",
       "      <th>133</th>\n",
       "      <td>Taylor</td>\n",
       "      <td>474051</td>\n",
       "      <td>Trades</td>\n",
       "      <td>16184</td>\n",
       "      <td>29-Mar</td>\n",
       "      <td>Contacted</td>\n",
       "      <td>30</td>\n",
       "      <td>45</td>\n",
       "      <td>0,8</td>\n",
       "      <td>38</td>\n",
       "      <td>...</td>\n",
       "      <td>Contacted</td>\n",
       "      <td>33.0</td>\n",
       "      <td>45.0</td>\n",
       "      <td>1</td>\n",
       "      <td>40.0</td>\n",
       "      <td>3.0</td>\n",
       "      <td>Neutral</td>\n",
       "      <td>Average</td>\n",
       "      <td>Email</td>\n",
       "      <td>NaN</td>\n",
       "    </tr>\n",
       "    <tr>\n",
       "      <th>134</th>\n",
       "      <td>Zhao</td>\n",
       "      <td>394891</td>\n",
       "      <td>Info and Culture</td>\n",
       "      <td>11099</td>\n",
       "      <td>30-Mar</td>\n",
       "      <td>Contacted</td>\n",
       "      <td>41</td>\n",
       "      <td>43</td>\n",
       "      <td>1,3</td>\n",
       "      <td>43</td>\n",
       "      <td>...</td>\n",
       "      <td>Proposal</td>\n",
       "      <td>30.0</td>\n",
       "      <td>37.0</td>\n",
       "      <td>1,8</td>\n",
       "      <td>41.0</td>\n",
       "      <td>3.0</td>\n",
       "      <td>Neutral</td>\n",
       "      <td>At Churn Risk</td>\n",
       "      <td>Email</td>\n",
       "      <td>NaN</td>\n",
       "    </tr>\n",
       "  </tbody>\n",
       "</table>\n",
       "<p>135 rows × 35 columns</p>\n",
       "</div>"
      ],
      "text/plain": [
       "         Q1      Q2                Q3     Q4      Q5         Q6  Q7  Q8   Q9  \\\n",
       "0     Smith  288389        Consulting   8790   1-Mar  Contacted  25  46  0,8   \n",
       "1     Smith  287515        Consulting   9252   1-Mar       Demo  32  44  0,9   \n",
       "2    Garcia  388664  Info and Culture  12723   2-Mar  Contacted  35  45  1,5   \n",
       "3      Chen  281026        Consulting   9740   2-Mar  Contacted  35  30  0,5   \n",
       "4     Smith  354030         Ecommerce  13563   2-Mar   Proposal  47  42  1,1   \n",
       "..      ...     ...               ...    ...     ...        ...  ..  ..  ...   \n",
       "130    Zhao  393365  Info and Culture  18870  29-Mar  Contacted  38  42  1,2   \n",
       "131  Garcia  388480  Info and Culture  15911  29-Mar  Contacted  41  46    1   \n",
       "132    Devi  465745            Trades  15983  29-Mar  Contacted  45  37  0,9   \n",
       "133  Taylor  474051            Trades  16184  29-Mar  Contacted  30  45  0,8   \n",
       "134    Zhao  394891  Info and Culture  11099  30-Mar  Contacted  41  43  1,3   \n",
       "\n",
       "     Q10  ...           Q26   Q27   Q28  Q29   Q30  Q31       Q32  \\\n",
       "0     35  ...     Contacted  30.0  46.0  0,9  35.0  2.0  Neutral    \n",
       "1     55  ...          Demo  40.0  42.0  1,2  55.0  5.0  Positive   \n",
       "2     50  ...     Contacted  50.0  46.0  1,4  69.0  7.0  Neutral    \n",
       "3     65  ...          Demo  30.0  37.0  1,5  50.0  4.0  Positive   \n",
       "4     60  ...  Negotiations  45.0  41.0  1,3  42.0  4.0  Positive   \n",
       "..   ...  ...           ...   ...   ...  ...   ...  ...       ...   \n",
       "130   45  ...          Demo  42.0  38.0  1,1  53.0  5.0  Positive   \n",
       "131   47  ...     Contacted  38.0  42.0  0,9  42.0  3.0  Neutral    \n",
       "132   60  ...      Proposal  45.0  39.0  1,2  56.0  5.0  Positive   \n",
       "133   38  ...     Contacted  33.0  45.0    1  40.0  3.0  Neutral    \n",
       "134   43  ...      Proposal  30.0  37.0  1,8  41.0  3.0  Neutral    \n",
       "\n",
       "               Q33    Q34  Unnamed: 34  \n",
       "0          Average  Email          NaN  \n",
       "1        Very Good  Phone          NaN  \n",
       "2    At Churn Risk  Email          NaN  \n",
       "3             Good  Email          NaN  \n",
       "4             Good  Phone          NaN  \n",
       "..             ...    ...          ...  \n",
       "130           Good  Phone          NaN  \n",
       "131        Average  Phone          NaN  \n",
       "132           Good  Phone          NaN  \n",
       "133        Average  Email          NaN  \n",
       "134  At Churn Risk  Email          NaN  \n",
       "\n",
       "[135 rows x 35 columns]"
      ]
     },
     "execution_count": 10,
     "metadata": {},
     "output_type": "execute_result"
    }
   ],
   "source": [
    "# Answer\n",
    "df3 = pd.read_csv('Sheet1-Table 1.csv',delimiter=';')\n",
    "df3\n"
   ]
  },
  {
   "cell_type": "markdown",
   "id": "d7432c03-7523-4df0-8d8e-f046981f566c",
   "metadata": {},
   "source": [
    "# Plot the scatter plot "
   ]
  },
  {
   "cell_type": "code",
   "execution_count": 8,
   "id": "9b462df3-ea45-4d05-8a17-d96cdfa6cfef",
   "metadata": {},
   "outputs": [
    {
     "data": {
      "text/plain": [
       "<matplotlib.collections.PathCollection at 0x13754ded0>"
      ]
     },
     "execution_count": 8,
     "metadata": {},
     "output_type": "execute_result"
    },
    {
     "data": {
      "image/png": "[encoded data removed]",
      "text/plain": [
       "<Figure size 640x480 with 1 Axes>"
      ]
     },
     "metadata": {},
     "output_type": "display_data"
    }
   ],
   "source": [
    "# (Q4 versus Q2)\n",
    "# Answer\n",
    "import matplotlib.pyplot as plt\n",
    "\n",
    "plt.scatter(df3[\"Q4\"],df3[\"Q2\"])"
   ]
  },
  {
   "cell_type": "markdown",
   "id": "3aaf6927-f652-4237-a990-eff6247b9877",
   "metadata": {},
   "source": [
    "# K-means "
   ]
  },
  {
   "cell_type": "markdown",
   "id": "9c024e9f-06c9-432e-99a0-ec69b613cbf1",
   "metadata": {},
   "source": [
    "Step1: For using Kmean method first import the required library: from sklearn.cluster import KMeans"
   ]
  },
  {
   "cell_type": "code",
   "execution_count": 2,
   "id": "1153079c-75fe-44e2-870e-e5c421bb9af6",
   "metadata": {},
   "outputs": [],
   "source": [
    "# Answer\n",
    "\n"
   ]
  },
  {
   "cell_type": "markdown",
   "id": "de0f4ad9-e37d-44ce-9506-9df5e1d6ebb0",
   "metadata": {},
   "source": [
    "Step 2: Convert the required column to the numpy array (Hint: X= np.array(name_of_table[['col1','col2']]))"
   ]
  },
  {
   "cell_type": "code",
   "execution_count": 3,
   "id": "41ec5407-a9f0-4ba1-bf32-435d27bccd3a",
   "metadata": {},
   "outputs": [],
   "source": [
    "# Q4 and Q2 col\n",
    "\n"
   ]
  },
  {
   "cell_type": "markdown",
   "id": "8b2a32b0-c167-40be-9f74-8dfb71ef48c6",
   "metadata": {},
   "source": [
    "Step 3: Introduce the model:\n",
    "\n",
    "kmeans = KMeans(n_clusters = 'put one number', n_init = 12)\n",
    "\n",
    "n_init: Number of time the k-means algorithm will be run with different centroid seeds. The final results will be the best output of n_init consecutive runs in terms of inertia."
   ]
  },
  {
   "cell_type": "code",
   "execution_count": 4,
   "id": "daf86f88-0a9c-4bea-bc10-c16c776df3df",
   "metadata": {},
   "outputs": [],
   "source": [
    "# Answer\n",
    "\n",
    "\n"
   ]
  },
  {
   "cell_type": "markdown",
   "id": "18ae8689-c4a0-4322-b995-834152cfd24b",
   "metadata": {},
   "source": [
    "Step 4: Apply the model\n",
    "\n",
    "clust = kmeans.fit(x)"
   ]
  },
  {
   "cell_type": "code",
   "execution_count": 5,
   "id": "cdc181e2-3b56-46ea-a0ae-1931a45123da",
   "metadata": {},
   "outputs": [],
   "source": [
    "# Answer\n"
   ]
  },
  {
   "cell_type": "markdown",
   "id": "beb9f3a4-3b5c-4b12-9f9c-30211e0931be",
   "metadata": {},
   "source": [
    "Step 5: print your cluster\n",
    "\n",
    "cl = kmeans.labels_\n"
   ]
  },
  {
   "cell_type": "code",
   "execution_count": 6,
   "id": "5d3537af-2a34-4ccb-90ad-ac4dcac59635",
   "metadata": {},
   "outputs": [],
   "source": [
    "# Answer\n"
   ]
  },
  {
   "cell_type": "code",
   "execution_count": 36,
   "id": "1a62a162-94bc-44d4-8b62-0badaedcc133",
   "metadata": {},
   "outputs": [
    {
     "data": {
      "image/png": "[encoded data removed]",
      "text/plain": [
       "<Figure size 640x480 with 1 Axes>"
      ]
     },
     "metadata": {},
     "output_type": "display_data"
    }
   ],
   "source": [
    "from seaborn import scatterplot\n",
    "import matplotlib as mpl\n",
    "import matplotlib.pyplot as plt\n",
    "\n",
    "scatterplot(x=df3[\"Q4\"],y=df3[\"Q2\"], hue=cl, palette=\"deep\")\n",
    "plt.xlabel('Projected Value of Contract')\n",
    "plt.ylabel('Company Revenue')\n",
    "plt.show()"
   ]
  },
  {
   "cell_type": "markdown",
   "id": "5fd7a2b4-3f8f-4d15-ba34-fd65570db333",
   "metadata": {},
   "source": [
    "# Elbow Method"
   ]
  },
  {
   "cell_type": "code",
   "execution_count": 37,
   "id": "722c8d57-6aee-40fe-8989-3b12014aa1fa",
   "metadata": {},
   "outputs": [
    {
     "data": {
      "image/png": "[encoded data removed]",
      "text/plain": [
       "<Figure size 640x480 with 1 Axes>"
      ]
     },
     "metadata": {},
     "output_type": "display_data"
    }
   ],
   "source": [
    "wcss = []\n",
    "for k in range(1, 10):\n",
    "    kmeans = KMeans(n_clusters=k)\n",
    "    kmeans.fit(x)\n",
    "    wcss.append(kmeans.inertia_)\n",
    "\n",
    "# Plot the elbow method\n",
    "plt.plot(range(1, 10), wcss, marker='o')\n",
    "plt.xlabel('Number of Clusters (k)')\n",
    "plt.ylabel('WCSS')\n",
    "plt.title('Elbow Method')\n",
    "plt.show()"
   ]
  },
  {
   "cell_type": "code",
   "execution_count": 7,
   "id": "cf596536-cafb-4d42-8667-c04eafdd0931",
   "metadata": {},
   "outputs": [],
   "source": [
    "# Repeat the step above with the correct number of the cluster\n",
    "\n"
   ]
  },
  {
   "cell_type": "markdown",
   "id": "6ea5e023-74bd-460e-a43f-347ba6e14112",
   "metadata": {},
   "source": [
    "# Project: Customer Segmentation\n",
    "\n",
    "In this project, your goal is to segment customers into distinct groups based on their characteristics. You are provided with a dataset containing the following features:\n",
    "\n",
    "CustomerID – A unique identifier for each customer\n",
    "\n",
    "Gender – The customer's gender\n",
    "\n",
    "Age – The customer's age\n",
    "\n",
    "Annual Income – The customer's annual income (in thousands)\n",
    "\n",
    "Spending Score – A score assigned based on customer behavior and spending habits\n",
    "\n",
    "Your task is to apply various clustering algorithms to identify meaningful customer segments. For now try K-Means approach.\n",
    "\n",
    "This dataset is available on Kaggle, and you're encouraged to experiment and iterate as much as possible.\n",
    "\n",
    "Have fun exploring the data—and remember, your insights can help businesses tailor their strategies to better serve different types of customers!"
   ]
  },
  {
   "cell_type": "code",
   "execution_count": 1,
   "id": "f05757ec-b249-44e8-bef6-479ec6ccd770",
   "metadata": {},
   "outputs": [],
   "source": [
    "# Your codes go here\n"
   ]
  },
  {
   "cell_type": "markdown",
   "id": "b0c8b8a8-1a1b-4f49-8719-7961b46519d5",
   "metadata": {},
   "source": [
    "# Recomended point:"
   ]
  },
  {
   "cell_type": "markdown",
   "id": "e6d076af-cafa-4725-a775-6cef74e6dc06",
   "metadata": {},
   "source": [
    "Normalizing over the standard deviation\n",
    "\n",
    "Normalization is a statistical method that helps mathematical-based algorithms to interpret features with different magnitudes and distributions equally. In other words, the comparison between two things will be more meaningful. We use StandardScaler() to normalize our dataset."
   ]
  },
  {
   "cell_type": "code",
   "execution_count": null,
   "id": "d576d0e4-30f8-4a10-afbc-53e3cd56f48c",
   "metadata": {},
   "outputs": [],
   "source": [
    "# Step 3: Scale the features (optional but recommended)\n",
    "from sklearn.preprocessing import StandardScaler\n",
    "\n",
    "scaler = StandardScaler()\n",
    "\n",
    "X_scaled = scaler.fit_transform(X)"
   ]
  },
  {
   "cell_type": "markdown",
   "id": "88593dbd-3ed3-41e4-81f5-29a209fe5585",
   "metadata": {},
   "source": [
    "I used below ref for the first example:\n",
    "\n",
    "\n",
    "Source: https://github.com/DrStephPowers/BIA/blob/main/Ch9_Cluster.ipynb \n",
    "\n",
    "Second data source:\n",
    "\n",
    "https://www.kaggle.com/"
   ]
  },
  {
   "cell_type": "code",
   "execution_count": null,
   "id": "73bedc49-25b3-46ce-b32d-781f5a77911f",
   "metadata": {},
   "outputs": [],
   "source": []
  }
 ],
 "metadata": {
  "kernelspec": {
   "display_name": "Python 3 (ipykernel)",
   "language": "python",
   "name": "python3"
  },
  "language_info": {
   "codemirror_mode": {
    "name": "ipython",
    "version": 3
   },
   "file_extension": ".py",
   "mimetype": "text/x-python",
   "name": "python",
   "nbconvert_exporter": "python",
   "pygments_lexer": "ipython3",
   "version": "3.11.3"
  }
 },
 "nbformat": 4,
 "nbformat_minor": 5
}
