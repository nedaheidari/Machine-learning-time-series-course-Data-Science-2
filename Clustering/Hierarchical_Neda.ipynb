{
 "cells": [
  {
   "cell_type": "markdown",
   "id": "e40ab6a3-ff4b-496d-bbe1-66de63238270",
   "metadata": {},
   "source": [
    "# Hierarchial"
   ]
  },
  {
   "cell_type": "markdown",
   "id": "9d32e41c-b9ac-409a-9148-2b59cf39968e",
   "metadata": {},
   "source": [
    "Here, I have simulated some data: "
   ]
  },
  {
   "cell_type": "code",
   "execution_count": 1,
   "id": "3222a11e-8c59-4c98-89c4-e83696781f5b",
   "metadata": {},
   "outputs": [],
   "source": [
    "import numpy as np\n",
    "import matplotlib.pyplot as plt\n",
    "import seaborn as sns\n",
    "\n",
    "# Sample Data (2D Points)\n",
    "X = np.array([[5, 3], [10, 15], [15, 12], [24, 10], [30, 30], [85, 70], [71, 80], [60, 78], [55, 52], [80, 91]])\n"
   ]
  },
  {
   "cell_type": "markdown",
   "id": "24f8acba-85f2-44e0-b710-cd9cde5f5eb5",
   "metadata": {},
   "source": [
    "# Step 1: import required library\n",
    "\n",
    "import scipy.cluster.hierarchy as sch"
   ]
  },
  {
   "cell_type": "code",
   "execution_count": 1,
   "id": "30f0199f-5030-41fd-a121-2d703684e970",
   "metadata": {},
   "outputs": [],
   "source": [
    "# Answer\n"
   ]
  },
  {
   "cell_type": "markdown",
   "id": "fe6014ed-04b2-4ce1-999c-cbd485d9ac58",
   "metadata": {},
   "source": [
    "# Step 2: Consider to convert to the numpy array (optional, hint: X= np.array(name_of_table[['col1','col2']]))"
   ]
  },
  {
   "cell_type": "code",
   "execution_count": 27,
   "id": "893c1e36-a4ee-4530-ac36-54d26133c5a4",
   "metadata": {},
   "outputs": [],
   "source": [
    "# Answer\n",
    "\n"
   ]
  },
  {
   "cell_type": "markdown",
   "id": "da05eb52-bb6b-4726-ba93-0cb4052dcef2",
   "metadata": {},
   "source": [
    "# Step 3: normalize your data (optional but recommended)\n",
    "\n",
    "1. from sklearn.preprocessing import StandardScaler\n",
    "\n",
    "2. scaler = StandardScaler()\n",
    "\n",
    "3. X_scaled = scaler.fit_transform(data)"
   ]
  },
  {
   "cell_type": "code",
   "execution_count": 28,
   "id": "2c0ec65c-1f45-4d89-a53f-b491e389a6f2",
   "metadata": {},
   "outputs": [],
   "source": [
    "# Answer\n",
    "\n"
   ]
  },
  {
   "cell_type": "markdown",
   "id": "573f636d-9222-4541-87db-41bac6197535",
   "metadata": {},
   "source": [
    "# Step 4: calculate the distance matrix\n",
    "\n",
    "1. from scipy.spatial import distance_matrix\n",
    "   \n",
    "3. dist_matrix = distance_matrix(normalized_data,normalized_data) "
   ]
  },
  {
   "cell_type": "code",
   "execution_count": 29,
   "id": "cfa27079-c09b-47d4-a060-5a5e07fa4c47",
   "metadata": {},
   "outputs": [],
   "source": [
    "# Answer\n",
    "\n"
   ]
  },
  {
   "cell_type": "markdown",
   "id": "cdb54398-237d-46b4-9079-b44d67dcb35a",
   "metadata": {},
   "source": [
    "# Step 5: cluster using linkage. In the linkage there is different method. Please choose 'ward' which is variance.\n",
    "\n",
    "linked = sch.linkage(data, method='ward')"
   ]
  },
  {
   "cell_type": "code",
   "execution_count": 30,
   "id": "0aa1e35a-5f64-459f-b2cd-64bc33cf6d9e",
   "metadata": {},
   "outputs": [],
   "source": [
    "# Answer\n",
    "\n"
   ]
  },
  {
   "cell_type": "markdown",
   "id": "49d0ba60-33ad-4c14-a15d-9cd0155dbd4f",
   "metadata": {},
   "source": [
    "# Step 6: Plot it"
   ]
  },
  {
   "cell_type": "code",
   "execution_count": null,
   "id": "824f071d-be84-46a2-9f08-4d4b148b9021",
   "metadata": {},
   "outputs": [],
   "source": [
    "# Plot the Dendrogram\n",
    "plt.figure(figsize=(8, 5))\n",
    "dendrogram = sch.dendrogram(linked)\n",
    "plt.title('Hierarchical Clustering Dendrogram')\n",
    "plt.xlabel('Data Points')\n",
    "plt.ylabel('Distance')\n",
    "plt.show()\n"
   ]
  },
  {
   "cell_type": "markdown",
   "id": "a21da424-fcdf-476b-aeb5-3abc8164f3e2",
   "metadata": {},
   "source": [
    "# Exercise"
   ]
  },
  {
   "cell_type": "markdown",
   "id": "8bf3f46d-2319-40df-bf38-024bedfe8139",
   "metadata": {},
   "source": [
    "Project: Customer Segmentation\n",
    "\n",
    "In this project, your goal is to segment customers into distinct groups based on their characteristics. You are provided with a dataset containing the following features:\n",
    "\n",
    "CustomerID – A unique identifier for each customer\n",
    "\n",
    "Gender – The customer's gender\n",
    "\n",
    "Age – The customer's age\n",
    "\n",
    "Annual Income – The customer's annual income (in thousands)\n",
    "\n",
    "Spending Score – A score assigned based on customer behavior and spending habits\n",
    "\n",
    "Your task is to apply various clustering algorithms to identify meaningful customer segments. Here, try Hirarchial approach.\n",
    "\n",
    "This dataset is available on Kaggle, and you're encouraged to experiment and iterate as much as possible.\n",
    "\n",
    "Have fun exploring the data—and remember, your insights can help businesses tailor their strategies to better serve different types of customers!"
   ]
  },
  {
   "cell_type": "code",
   "execution_count": 31,
   "id": "913819b6-0240-4af0-b76b-e0c2f8712c07",
   "metadata": {},
   "outputs": [],
   "source": [
    "# Answer\n",
    "\n",
    "\n",
    "\n",
    "\n"
   ]
  },
  {
   "cell_type": "markdown",
   "id": "54e0dfed-158d-48d8-9cc5-3f0355556daf",
   "metadata": {},
   "source": [
    "If you want to have it in the data frame:"
   ]
  },
  {
   "cell_type": "markdown",
   "id": "57ffad07-f9ea-414e-9548-0eae8e7af4d4",
   "metadata": {},
   "source": [
    "Step 1: import required library:\n",
    "\n",
    "from sklearn.cluster import AgglomerativeClustering "
   ]
  },
  {
   "cell_type": "code",
   "execution_count": null,
   "id": "7f29974f-ce71-4cfa-993a-d657a18a5024",
   "metadata": {},
   "outputs": [],
   "source": [
    "# Answer\n",
    "\n"
   ]
  },
  {
   "cell_type": "markdown",
   "id": "ca2e3b17-e8a4-4c1b-a139-0e6a99533021",
   "metadata": {},
   "source": [
    "Step 2: Defind the model\n",
    "\n",
    "agglom = AgglomerativeClustering(n_clusters = ?, linkage = 'complete')"
   ]
  },
  {
   "cell_type": "code",
   "execution_count": 32,
   "id": "b0a672ae-3afe-4091-91dc-c55590445e04",
   "metadata": {},
   "outputs": [],
   "source": [
    "# Answer\n",
    "\n"
   ]
  },
  {
   "cell_type": "markdown",
   "id": "1f028fc8-24a6-42f0-b3a2-34ef53e57e0e",
   "metadata": {},
   "source": [
    "Step 3: you will fit the model\n",
    "\n",
    "agglom.fit(dist_matrix)"
   ]
  },
  {
   "cell_type": "code",
   "execution_count": 33,
   "id": "fd0ef714-52fa-439d-b8a0-6260368a8405",
   "metadata": {},
   "outputs": [],
   "source": [
    "# Answer\n",
    "\n"
   ]
  },
  {
   "cell_type": "markdown",
   "id": "5cc6d1f0-6c88-43e4-940b-eceede3aae39",
   "metadata": {},
   "source": [
    "Step 4: your cluster will be in\n",
    "\n",
    "labels= agglom.labels_\n",
    "\n",
    "if you want to save it as a new column in the data, run: \n",
    "\n",
    "name_of_your_table['cluster'] = agglom.labels_"
   ]
  },
  {
   "cell_type": "code",
   "execution_count": 34,
   "id": "6a4f8afa-5cc3-4008-8443-22fa8d884100",
   "metadata": {},
   "outputs": [],
   "source": [
    "# Answer\n",
    "\n"
   ]
  },
  {
   "cell_type": "markdown",
   "id": "cdb4c0bb-4bf5-498c-9c61-b90fa9687136",
   "metadata": {},
   "source": [
    "Step 5: plot it (if you have more that 2D, you should plot it in 3D)"
   ]
  },
  {
   "cell_type": "code",
   "execution_count": 35,
   "id": "29cc80e3-0137-4a51-8ac7-82a1277f4969",
   "metadata": {},
   "outputs": [],
   "source": [
    "# Answer\n",
    "\n"
   ]
  },
  {
   "cell_type": "markdown",
   "id": "a98420da-60cb-418e-b31a-e80617f7b254",
   "metadata": {},
   "source": [
    "# 🚗 Project: Clustering Cars Using Hierarchical Models\n",
    "\n",
    "\n",
    "🧩 Objective:\n",
    "You are provided with a dataset that contains specifications and sales-related features for various car models. Your task is to explore the data, apply hierarchical clustering, and identify groups of similar vehicles based on their characteristics.\n",
    "\n",
    "📝 Dataset Overview:\n",
    "\n",
    "Each row represents a different car model, with the following features:\n",
    "\n",
    "manufact – Manufacturer name\n",
    "\n",
    "model – Model name\n",
    "\n",
    "sales – Number of units sold (in thousands)\n",
    "\n",
    "resale – Estimated resale value (in thousands)\n",
    "\n",
    "type – Car category (e.g., sedan, SUV, etc.)\n",
    "\n",
    "price, engine_s, horsepow, wheelbas, width, length, curb_wgt – Technical specifications\n",
    "\n",
    "fuel_cap – Fuel tank capacity (in gallons)\n",
    "\n",
    "mpg – Miles per gallon\n",
    "\n",
    "lnsales – Log-transformed sales\n",
    "\n",
    "partition – Optional grouping column\n"
   ]
  },
  {
   "cell_type": "markdown",
   "id": "f49ba45a-4d47-4cfb-b373-716eeb4cccfb",
   "metadata": {},
   "source": [
    "🔍 What to do:\n",
    "\n",
    "1. Preprocess the data\n",
    "\n",
    "Handle any missing values.\n",
    "\n",
    "Drop non-numeric or identifier columns like manufact, model, and partition.\n",
    "\n",
    "Standardize or normalize the data to bring all features to a comparable scale.\n",
    "    \n",
    "\n",
    "2. Apply Hierarchical Clustering\n",
    "\n",
    "Use Agglomerative Hierarchical Clustering.\n",
    "\n",
    "Plot the dendrogram to visualize the hierarchy of clusters.\n",
    "\n",
    "\n",
    "3. Interpret the Clusters\n",
    "\n",
    "Choose a number of clusters based on the dendrogram.\n",
    "\n",
    "Assign each car to a cluster and examine which features contribute most to cluster separation.\n",
    "\n",
    "Compare average values of price, horsepower, mpg, etc., across clusters.\n",
    "    \n",
    "\n",
    "4. Visualize\n",
    "\n",
    "Use 2D or 3D scatter plots to show the clustering results .\n",
    "\n",
    "Annotate or color-code cars by cluster.\n",
    "\n",
    "💬 Questions to Reflect On:\n",
    "    \n",
    "What features seem to most influence how cars are grouped?\n",
    "\n",
    "How do the resulting clusters align with your intuition (e.g., high-performance cars vs. economy cars)?\n",
    "\n",
    "\n"
   ]
  },
  {
   "cell_type": "code",
   "execution_count": 2,
   "id": "915eedc1-e8a1-4ab4-9a31-f2dd8bc6276f",
   "metadata": {},
   "outputs": [
    {
     "name": "stdout",
     "output_type": "stream",
     "text": [
      "zsh:1: command not found: wget\n"
     ]
    }
   ],
   "source": [
    "!wget -O cars_clus.csv https://cf-courses-data.s3.us.cloud-object-storage.appdomain.cloud/IBMDeveloperSkillsNetwork-ML0101EN-Coursera/labs/Data_files/cars_clus.csv"
   ]
  },
  {
   "cell_type": "code",
   "execution_count": 3,
   "id": "589798ac-5a8f-47fb-9d9d-73267a3ad85b",
   "metadata": {},
   "outputs": [
    {
     "ename": "NameError",
     "evalue": "name 'pd' is not defined",
     "output_type": "error",
     "traceback": [
      "\u001b[0;31m---------------------------------------------------------------------------\u001b[0m",
      "\u001b[0;31mNameError\u001b[0m                                 Traceback (most recent call last)",
      "Cell \u001b[0;32mIn[3], line 4\u001b[0m\n\u001b[1;32m      1\u001b[0m filename \u001b[38;5;241m=\u001b[39m \u001b[38;5;124m'\u001b[39m\u001b[38;5;124mcars_clus.csv\u001b[39m\u001b[38;5;124m'\u001b[39m\n\u001b[1;32m      3\u001b[0m \u001b[38;5;66;03m#Read csv\u001b[39;00m\n\u001b[0;32m----> 4\u001b[0m pdf \u001b[38;5;241m=\u001b[39m \u001b[43mpd\u001b[49m\u001b[38;5;241m.\u001b[39mread_csv(filename)\n\u001b[1;32m      5\u001b[0m \u001b[38;5;28mprint\u001b[39m (\u001b[38;5;124m\"\u001b[39m\u001b[38;5;124mShape of dataset: \u001b[39m\u001b[38;5;124m\"\u001b[39m, pdf\u001b[38;5;241m.\u001b[39mshape)\n\u001b[1;32m      7\u001b[0m pdf\u001b[38;5;241m.\u001b[39mhead(\u001b[38;5;241m5\u001b[39m)\n",
      "\u001b[0;31mNameError\u001b[0m: name 'pd' is not defined"
     ]
    }
   ],
   "source": [
    "filename = 'cars_clus.csv'\n",
    "\n",
    "#Read csv\n",
    "pdf = pd.read_csv(filename)\n",
    "print (\"Shape of dataset: \", pdf.shape)\n",
    "\n",
    "pdf.head(5)"
   ]
  },
  {
   "cell_type": "code",
   "execution_count": 12,
   "id": "674247e9-08ce-4443-8d89-44ef37aaf079",
   "metadata": {},
   "outputs": [
    {
     "name": "stdout",
     "output_type": "stream",
     "text": [
      "Shape of dataset before cleaning:  2544\n",
      "Shape of dataset after cleaning:  1872\n"
     ]
    },
    {
     "data": {
      "text/html": [
       "<div>\n",
       "<style scoped>\n",
       "    .dataframe tbody tr th:only-of-type {\n",
       "        vertical-align: middle;\n",
       "    }\n",
       "\n",
       "    .dataframe tbody tr th {\n",
       "        vertical-align: top;\n",
       "    }\n",
       "\n",
       "    .dataframe thead th {\n",
       "        text-align: right;\n",
       "    }\n",
       "</style>\n",
       "<table border=\"1\" class=\"dataframe\">\n",
       "  <thead>\n",
       "    <tr style=\"text-align: right;\">\n",
       "      <th></th>\n",
       "      <th>manufact</th>\n",
       "      <th>model</th>\n",
       "      <th>sales</th>\n",
       "      <th>resale</th>\n",
       "      <th>type</th>\n",
       "      <th>price</th>\n",
       "      <th>engine_s</th>\n",
       "      <th>horsepow</th>\n",
       "      <th>wheelbas</th>\n",
       "      <th>width</th>\n",
       "      <th>length</th>\n",
       "      <th>curb_wgt</th>\n",
       "      <th>fuel_cap</th>\n",
       "      <th>mpg</th>\n",
       "      <th>lnsales</th>\n",
       "      <th>partition</th>\n",
       "    </tr>\n",
       "  </thead>\n",
       "  <tbody>\n",
       "    <tr>\n",
       "      <th>0</th>\n",
       "      <td>Acura</td>\n",
       "      <td>Integra</td>\n",
       "      <td>16.919</td>\n",
       "      <td>16.360</td>\n",
       "      <td>0.0</td>\n",
       "      <td>21.50</td>\n",
       "      <td>1.8</td>\n",
       "      <td>140.0</td>\n",
       "      <td>101.2</td>\n",
       "      <td>67.3</td>\n",
       "      <td>172.4</td>\n",
       "      <td>2.639</td>\n",
       "      <td>13.2</td>\n",
       "      <td>28.0</td>\n",
       "      <td>2.828</td>\n",
       "      <td>0.0</td>\n",
       "    </tr>\n",
       "    <tr>\n",
       "      <th>1</th>\n",
       "      <td>Acura</td>\n",
       "      <td>TL</td>\n",
       "      <td>39.384</td>\n",
       "      <td>19.875</td>\n",
       "      <td>0.0</td>\n",
       "      <td>28.40</td>\n",
       "      <td>3.2</td>\n",
       "      <td>225.0</td>\n",
       "      <td>108.1</td>\n",
       "      <td>70.3</td>\n",
       "      <td>192.9</td>\n",
       "      <td>3.517</td>\n",
       "      <td>17.2</td>\n",
       "      <td>25.0</td>\n",
       "      <td>3.673</td>\n",
       "      <td>0.0</td>\n",
       "    </tr>\n",
       "    <tr>\n",
       "      <th>2</th>\n",
       "      <td>Acura</td>\n",
       "      <td>RL</td>\n",
       "      <td>8.588</td>\n",
       "      <td>29.725</td>\n",
       "      <td>0.0</td>\n",
       "      <td>42.00</td>\n",
       "      <td>3.5</td>\n",
       "      <td>210.0</td>\n",
       "      <td>114.6</td>\n",
       "      <td>71.4</td>\n",
       "      <td>196.6</td>\n",
       "      <td>3.850</td>\n",
       "      <td>18.0</td>\n",
       "      <td>22.0</td>\n",
       "      <td>2.150</td>\n",
       "      <td>0.0</td>\n",
       "    </tr>\n",
       "    <tr>\n",
       "      <th>3</th>\n",
       "      <td>Audi</td>\n",
       "      <td>A4</td>\n",
       "      <td>20.397</td>\n",
       "      <td>22.255</td>\n",
       "      <td>0.0</td>\n",
       "      <td>23.99</td>\n",
       "      <td>1.8</td>\n",
       "      <td>150.0</td>\n",
       "      <td>102.6</td>\n",
       "      <td>68.2</td>\n",
       "      <td>178.0</td>\n",
       "      <td>2.998</td>\n",
       "      <td>16.4</td>\n",
       "      <td>27.0</td>\n",
       "      <td>3.015</td>\n",
       "      <td>0.0</td>\n",
       "    </tr>\n",
       "    <tr>\n",
       "      <th>4</th>\n",
       "      <td>Audi</td>\n",
       "      <td>A6</td>\n",
       "      <td>18.780</td>\n",
       "      <td>23.555</td>\n",
       "      <td>0.0</td>\n",
       "      <td>33.95</td>\n",
       "      <td>2.8</td>\n",
       "      <td>200.0</td>\n",
       "      <td>108.7</td>\n",
       "      <td>76.1</td>\n",
       "      <td>192.0</td>\n",
       "      <td>3.561</td>\n",
       "      <td>18.5</td>\n",
       "      <td>22.0</td>\n",
       "      <td>2.933</td>\n",
       "      <td>0.0</td>\n",
       "    </tr>\n",
       "  </tbody>\n",
       "</table>\n",
       "</div>"
      ],
      "text/plain": [
       "  manufact    model   sales  resale  type  price  engine_s  horsepow  \\\n",
       "0    Acura  Integra  16.919  16.360   0.0  21.50       1.8     140.0   \n",
       "1    Acura       TL  39.384  19.875   0.0  28.40       3.2     225.0   \n",
       "2    Acura       RL   8.588  29.725   0.0  42.00       3.5     210.0   \n",
       "3     Audi       A4  20.397  22.255   0.0  23.99       1.8     150.0   \n",
       "4     Audi       A6  18.780  23.555   0.0  33.95       2.8     200.0   \n",
       "\n",
       "   wheelbas  width  length  curb_wgt  fuel_cap   mpg  lnsales  partition  \n",
       "0     101.2   67.3   172.4     2.639      13.2  28.0    2.828        0.0  \n",
       "1     108.1   70.3   192.9     3.517      17.2  25.0    3.673        0.0  \n",
       "2     114.6   71.4   196.6     3.850      18.0  22.0    2.150        0.0  \n",
       "3     102.6   68.2   178.0     2.998      16.4  27.0    3.015        0.0  \n",
       "4     108.7   76.1   192.0     3.561      18.5  22.0    2.933        0.0  "
      ]
     },
     "execution_count": 12,
     "metadata": {},
     "output_type": "execute_result"
    }
   ],
   "source": [
    "print (\"Shape of dataset before cleaning: \", pdf.size)\n",
    "pdf[[ 'sales', 'resale', 'type', 'price', 'engine_s',\n",
    "       'horsepow', 'wheelbas', 'width', 'length', 'curb_wgt', 'fuel_cap',\n",
    "       'mpg', 'lnsales']] = pdf[['sales', 'resale', 'type', 'price', 'engine_s',\n",
    "       'horsepow', 'wheelbas', 'width', 'length', 'curb_wgt', 'fuel_cap',\n",
    "       'mpg', 'lnsales']].apply(pd.to_numeric, errors='coerce')\n",
    "pdf = pdf.dropna()\n",
    "pdf = pdf.reset_index(drop=True)\n",
    "print (\"Shape of dataset after cleaning: \", pdf.size)\n",
    "pdf.head(5)"
   ]
  },
  {
   "cell_type": "code",
   "execution_count": null,
   "id": "fb31f6fb-aca9-4594-bbe2-ae4ff86f9476",
   "metadata": {},
   "outputs": [],
   "source": [
    "# Answer"
   ]
  },
  {
   "cell_type": "markdown",
   "id": "d63db356-4c13-46c7-b4cf-e1ff9bb0e588",
   "metadata": {},
   "source": [
    "Second data source:\n",
    "\n",
    "https://www.ibm.com/products/cloud-object-storage/aspera?utm_content=SRCWW&p1=Search&p4=43700082121900491&p5=b&p9=58700008827063025&gad_source=1&gad_campaignid=22026623700&gbraid=0AAAAA-oK5nsYg6a3nbvbeI0axkkT4HxDB&gclid=CjwKCAjw7rbEBhB5EiwA1V49na8EMcR8LQ7mt0r7_rcrQPJ1x2Ek4RCD4jE5W3SziBWjUf9zn7nB2RoC2csQAvD_BwE&gclsrc=aw.ds\n",
    "\n",
    "https://www.kaggle.com/\n",
    "\n"
   ]
  },
  {
   "cell_type": "code",
   "execution_count": null,
   "id": "f451bd8b-460f-44a7-b62b-6cf5f9b1ce2d",
   "metadata": {},
   "outputs": [],
   "source": []
  }
 ],
 "metadata": {
  "kernelspec": {
   "display_name": "Python 3 (ipykernel)",
   "language": "python",
   "name": "python3"
  },
  "language_info": {
   "codemirror_mode": {
    "name": "ipython",
    "version": 3
   },
   "file_extension": ".py",
   "mimetype": "text/x-python",
   "name": "python",
   "nbconvert_exporter": "python",
   "pygments_lexer": "ipython3",
   "version": "3.11.3"
  }
 },
 "nbformat": 4,
 "nbformat_minor": 5
}
