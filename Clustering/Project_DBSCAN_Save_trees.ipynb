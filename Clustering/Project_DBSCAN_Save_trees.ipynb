{
 "cells": [
  {
   "cell_type": "markdown",
   "id": "f09b7563-3d1c-4ba3-99f3-a9838b68fca2",
   "metadata": {},
   "source": [
    "🌲 Project Brief (Role-Playing Style) \n",
    "\n",
    "🔍 Scenario: You’re a Data Scientist for EcoWatch\n",
    "\n",
    "\n",
    "You're working with EcoWatch, an environmental NGO monitoring ecosystems in protected forests. A fungal disease has recently been reported in one section of a national park, affecting a vulnerable species of tree.\n",
    "\n",
    "Your team has collected GPS coordinates of all observed trees of that species, and now the park rangers need your help.\n",
    "<hr>\n",
    "\n",
    "💬 The Mission Briefing from the Chief Ecologist\n",
    "\n",
    "“We think the disease may be spreading within groves—but we’re not sure how many groves there are or where the isolated trees are.\n",
    "\n",
    "Can you:\n",
    "\n",
    "1. Identify natural clusters of the trees (groves),\n",
    "\n",
    "2. Spot isolated trees that may either be early signs of spread or resilient outliers,\n",
    "\n",
    "3. And help us visualize the spatial patterns of the trees?”\n",
    "\n",
    "<hr>\n",
    "\n",
    "### 📁 The Data You’re Given\n",
    "\n",
    "Each row in the dataset is an observation of a tree:\n",
    "\n",
    "- `TreeID`: Unique identifier  \n",
    "- `Latitude`: GPS coordinate  \n",
    "- `Longitude`: GPS coordinate  \n",
    "- `Infected`: Yes/No (for later use)\n",
    "\n",
    "<hr>\n",
    "\n",
    "### 🧠 Your Mission\n",
    "\n",
    "Use **DBSCAN** to:\n",
    "\n",
    "- Detect **natural groves** of trees based on their locations  \n",
    "- Identify **isolated individuals** that might:\n",
    "  - Be infected and at risk of spreading the disease\n",
    "  - Or be distant and unaffected (potential for study)\n",
    "\n",
    "You will then **visualize the clusters and outliers**, helping the ecological team prioritize:\n",
    "\n",
    "- Disease containment zones\n",
    "  \n",
    "- Surveillance for isolated trees\n",
    "\n",
    "   \n",
    "- Future planting or protection strategies\n",
    "\n",
    "---\n",
    "\n",
    "- A **written or slide summary** answering:\n",
    "  \n",
    "  - How many groves exist?\n",
    "    \n",
    "  - Where are isolated trees located?\n",
    " \n",
    "    \n",
    "  - What strategies would you recommend for disease control?\n",
    " \n",
    "    \n",
    "  - (Bonus) A version with `Infected` trees color-coded\n",
    "\n",
    "  \n",
    "  - (Bonus++) Test different `eps` values and describe the impact\n",
    "\n",
    "---\n"
   ]
  },
  {
   "cell_type": "code",
   "execution_count": 6,
   "id": "42bc26f3-8773-421b-adb9-63991e5710cb",
   "metadata": {},
   "outputs": [
    {
     "name": "stdout",
     "output_type": "stream",
     "text": [
      "    Latitude  Longitude  TreeID Infected\n",
      "0  48.859545   2.358319       1       No\n",
      "1  48.852222   2.345608       2       No\n",
      "2  48.853853   2.346984       3       No\n",
      "3  48.853329   2.346545       4      Yes\n",
      "4  48.852763   2.347476       5       No\n"
     ]
    }
   ],
   "source": [
    "import pandas as pd\n",
    "import numpy as np\n",
    "import matplotlib.pyplot as plt\n",
    "from sklearn.datasets import make_blobs\n",
    "import random\n",
    "\n",
    "# Generate new data with three distinct groves\n",
    "new_centers = [(48.8566, 2.3522), (48.8600, 2.3580), (48.8530, 2.3470)]\n",
    "new_cluster_std = [0.0005, 0.0005, 0.0005]\n",
    "\n",
    "# Generate clustered data for three clusters\n",
    "X_new, _ = make_blobs(n_samples=90, centers=new_centers, cluster_std=new_cluster_std)\n",
    "\n",
    "# Add 5 outliers\n",
    "outliers_new = np.array([\n",
    "    [48.8700, 2.3700],\n",
    "    [48.8400, 2.3300],\n",
    "    [48.8500, 2.3650],\n",
    "    [48.8720, 2.3400],\n",
    "    [48.8450, 2.3600]\n",
    "])\n",
    "\n",
    "# Combine data\n",
    "tree_locations_new = np.vstack([X_new, outliers_new])\n",
    "\n",
    "# Assign infection status to 10 random trees\n",
    "infection_status_new = ['Yes' if i in random.sample(range(95), 10) else 'No' for i in range(95)]\n",
    "\n",
    "# Create DataFrame\n",
    "tree_data_new = pd.DataFrame(tree_locations_new, columns=['Latitude', 'Longitude'])\n",
    "tree_data_new['TreeID'] = range(1, 96)\n",
    "tree_data_new['Infected'] = infection_status_new\n",
    "\n",
    "print(tree_data_new.head())"
   ]
  },
  {
   "cell_type": "code",
   "execution_count": null,
   "id": "fa6ec05e-85ab-4e81-a32d-1347c42d835e",
   "metadata": {},
   "outputs": [],
   "source": [
    "# Answer:\n",
    "\n",
    "\n",
    "\n",
    "\n",
    "\n",
    "\n",
    "\n"
   ]
  },
  {
   "cell_type": "markdown",
   "id": "bcc77939-847c-44a6-9534-e47b7d93ae30",
   "metadata": {},
   "source": [
    "Note: A good rule of thumb:\n",
    "\n",
    "Set min_samples = 2 * num_features, where num_features is the number of dimensions in your dataset (in your case 2D → try 4).\n",
    "\n",
    "Larger min_samples will require tighter clusters and make DBSCAN more selective.\n",
    "\n"
   ]
  },
  {
   "cell_type": "markdown",
   "id": "7658986f-c887-4441-86c1-e939756ea0a2",
   "metadata": {},
   "source": [
    "<hr>\n",
    "\n",
    "# 🎯 Project Brief (Role-Playing Style)\n",
    "\n",
    "\n",
    "👩‍💼 Scenario: You're Working at “SmartStyle Retail”.\n",
    "\n",
    "You’ve just joined SmartStyle, a fast-growing retail company with thousands of customers. Your team has been handed a dataset of customer profiles. You’ve been asked to segment customers to help the Marketing Team build personalized offers and improve retention.\n",
    "\n",
    "The marketing director tells you:\n",
    "\n",
    "“We’ve tried some basic clustering in the past like K-Means, but it didn’t work well. Some customers just didn’t fit the patterns, and it threw everything off. We don’t want to force everyone into a group. Can you try something smarter?”"
   ]
  },
  {
   "cell_type": "markdown",
   "id": "59310407-548d-4e22-ac65-b9c4b910650c",
   "metadata": {},
   "source": [
    "Double-click **here** for the additional information.\n",
    "\n",
    "<!-- Your answer is below:\n",
    "\n",
    "These customer outliers might be:\n",
    "\n",
    "1. Excluded from group targeting\n",
    "\n",
    "2. Flagged for special VIP treatment\n",
    "\n",
    "3. Or simply analyzed separately\n",
    "\n",
    "-->"
   ]
  },
  {
   "cell_type": "markdown",
   "id": "901ad038-401d-4885-8137-47e181b0cf1f",
   "metadata": {},
   "source": [
    "📁 The data you’re given contains:\n",
    "\n",
    "CustomerID: A unique identifier\n",
    "\n",
    "Gender\n",
    "\n",
    "Age\n",
    "\n",
    "Annual Income (k$)\n",
    "\n",
    "Spending Score (1–100) – a custom score reflecting how frequently and how much the customer spends"
   ]
  },
  {
   "cell_type": "markdown",
   "id": "184dfd99-ccbd-4127-b355-c0a5b90d606c",
   "metadata": {},
   "source": [
    "🧠 Your Mission\n",
    "\n",
    "Use clustering to group customers based on their behavior—BUT make sure:\n",
    "\n",
    "You don’t assume the number of groups in advance\n",
    "\n",
    "You can identify and ignore outliers who don’t fit anywhere\n",
    "\n",
    "You explain why your clustering method is practical for the business"
   ]
  },
  {
   "cell_type": "markdown",
   "id": "04354f65-611e-4b00-945a-98103ce8a79f",
   "metadata": {},
   "source": [
    "💼 Deliverables\n",
    "\n",
    "You will present:\n",
    "\n",
    "1. What you discovered\n",
    "\n",
    "2. What method you choose and why?\n",
    "\n",
    "3. What actions the company should take\n",
    "\n",
    "4. Plots and charts that clearly show clusters and outliers\n",
    "\n",
    "Bonus: Compare with K-Means and explain the difference"
   ]
  },
  {
   "cell_type": "code",
   "execution_count": null,
   "id": "daaa4caf-609f-44f0-ad5b-69f8c897e5b6",
   "metadata": {},
   "outputs": [],
   "source": [
    "# Answer\n",
    "\n",
    "\n",
    "\n",
    "\n"
   ]
  },
  {
   "cell_type": "code",
   "execution_count": null,
   "id": "e48b1ed5-0677-4ed9-bd3a-165ac0629419",
   "metadata": {},
   "outputs": [],
   "source": []
  },
  {
   "cell_type": "code",
   "execution_count": null,
   "id": "2308e3b8-06d6-4c26-9aa8-817e17007692",
   "metadata": {},
   "outputs": [],
   "source": []
  }
 ],
 "metadata": {
  "kernelspec": {
   "display_name": "Python 3 (ipykernel)",
   "language": "python",
   "name": "python3"
  },
  "language_info": {
   "codemirror_mode": {
    "name": "ipython",
    "version": 3
   },
   "file_extension": ".py",
   "mimetype": "text/x-python",
   "name": "python",
   "nbconvert_exporter": "python",
   "pygments_lexer": "ipython3",
   "version": "3.11.3"
  }
 },
 "nbformat": 4,
 "nbformat_minor": 5
}
